{
 "cells": [
  {
   "cell_type": "code",
   "execution_count": 2,
   "metadata": {
    "_cell_guid": "b1076dfc-b9ad-4769-8c92-a6c4dae69d19",
    "_uuid": "8f2839f25d086af736a60e9eeb907d3b93b6e0e5",
    "execution": {
     "iopub.execute_input": "2023-04-19T11:32:51.663792Z",
     "iopub.status.busy": "2023-04-19T11:32:51.663152Z",
     "iopub.status.idle": "2023-04-19T11:32:52.637488Z",
     "shell.execute_reply": "2023-04-19T11:32:52.636340Z",
     "shell.execute_reply.started": "2023-04-19T11:32:51.663752Z"
    }
   },
   "outputs": [
    {
     "name": "stdout",
     "output_type": "stream",
     "text": [
      "[nltk_data] Downloading package stopwords to /usr/share/nltk_data...\n",
      "[nltk_data]   Package stopwords is already up-to-date!\n"
     ]
    },
    {
     "data": {
      "text/plain": [
       "True"
      ]
     },
     "execution_count": 2,
     "metadata": {},
     "output_type": "execute_result"
    }
   ],
   "source": [
    "import nltk\n",
    "nltk.download('stopwords')"
   ]
  },
  {
   "cell_type": "code",
   "execution_count": 3,
   "metadata": {
    "execution": {
     "iopub.execute_input": "2023-04-19T11:33:09.487169Z",
     "iopub.status.busy": "2023-04-19T11:33:09.486344Z",
     "iopub.status.idle": "2023-04-19T11:33:19.151269Z",
     "shell.execute_reply": "2023-04-19T11:33:19.150126Z",
     "shell.execute_reply.started": "2023-04-19T11:33:09.487129Z"
    }
   },
   "outputs": [],
   "source": [
    "import numpy as np\n",
    "import pandas as pd\n",
    "import sklearn\n",
    "import unicodedata\n",
    "import numpy as np\n",
    "import random\n",
    "import re\n",
    "import nltk\n",
    "from nltk.corpus import movie_reviews\n",
    "from sklearn.model_selection import train_test_split\n",
    "import tensorflow as tf\n",
    "import tensorflow.keras as keras\n",
    "import transformers\n",
    "\n",
    "from transformers import BertTokenizer, TFBertForSequenceClassification"
   ]
  },
  {
   "cell_type": "code",
   "execution_count": 4,
   "metadata": {
    "execution": {
     "iopub.execute_input": "2023-04-19T11:33:22.144791Z",
     "iopub.status.busy": "2023-04-19T11:33:22.144174Z",
     "iopub.status.idle": "2023-04-19T11:33:22.350661Z",
     "shell.execute_reply": "2023-04-19T11:33:22.349615Z",
     "shell.execute_reply.started": "2023-04-19T11:33:22.144756Z"
    }
   },
   "outputs": [
    {
     "data": {
      "text/html": [
       "<div>\n",
       "<style scoped>\n",
       "    .dataframe tbody tr th:only-of-type {\n",
       "        vertical-align: middle;\n",
       "    }\n",
       "\n",
       "    .dataframe tbody tr th {\n",
       "        vertical-align: top;\n",
       "    }\n",
       "\n",
       "    .dataframe thead th {\n",
       "        text-align: right;\n",
       "    }\n",
       "</style>\n",
       "<table border=\"1\" class=\"dataframe\">\n",
       "  <thead>\n",
       "    <tr style=\"text-align: right;\">\n",
       "      <th></th>\n",
       "      <th>textID</th>\n",
       "      <th>text</th>\n",
       "      <th>selected_text</th>\n",
       "      <th>sentiment</th>\n",
       "      <th>Time of Tweet</th>\n",
       "      <th>Age of User</th>\n",
       "      <th>Country</th>\n",
       "      <th>Population -2020</th>\n",
       "      <th>Land Area (Km²)</th>\n",
       "      <th>Density (P/Km²)</th>\n",
       "    </tr>\n",
       "  </thead>\n",
       "  <tbody>\n",
       "    <tr>\n",
       "      <th>0</th>\n",
       "      <td>cb774db0d1</td>\n",
       "      <td>I`d have responded, if I were going</td>\n",
       "      <td>I`d have responded, if I were going</td>\n",
       "      <td>neutral</td>\n",
       "      <td>morning</td>\n",
       "      <td>0-20</td>\n",
       "      <td>Afghanistan</td>\n",
       "      <td>38928346</td>\n",
       "      <td>652860.0</td>\n",
       "      <td>60</td>\n",
       "    </tr>\n",
       "    <tr>\n",
       "      <th>1</th>\n",
       "      <td>549e992a42</td>\n",
       "      <td>Sooo SAD I will miss you here in San Diego!!!</td>\n",
       "      <td>Sooo SAD</td>\n",
       "      <td>negative</td>\n",
       "      <td>noon</td>\n",
       "      <td>21-30</td>\n",
       "      <td>Albania</td>\n",
       "      <td>2877797</td>\n",
       "      <td>27400.0</td>\n",
       "      <td>105</td>\n",
       "    </tr>\n",
       "    <tr>\n",
       "      <th>2</th>\n",
       "      <td>088c60f138</td>\n",
       "      <td>my boss is bullying me...</td>\n",
       "      <td>bullying me</td>\n",
       "      <td>negative</td>\n",
       "      <td>night</td>\n",
       "      <td>31-45</td>\n",
       "      <td>Algeria</td>\n",
       "      <td>43851044</td>\n",
       "      <td>2381740.0</td>\n",
       "      <td>18</td>\n",
       "    </tr>\n",
       "    <tr>\n",
       "      <th>3</th>\n",
       "      <td>9642c003ef</td>\n",
       "      <td>what interview! leave me alone</td>\n",
       "      <td>leave me alone</td>\n",
       "      <td>negative</td>\n",
       "      <td>morning</td>\n",
       "      <td>46-60</td>\n",
       "      <td>Andorra</td>\n",
       "      <td>77265</td>\n",
       "      <td>470.0</td>\n",
       "      <td>164</td>\n",
       "    </tr>\n",
       "    <tr>\n",
       "      <th>4</th>\n",
       "      <td>358bd9e861</td>\n",
       "      <td>Sons of ****, why couldn`t they put them on t...</td>\n",
       "      <td>Sons of ****,</td>\n",
       "      <td>negative</td>\n",
       "      <td>noon</td>\n",
       "      <td>60-70</td>\n",
       "      <td>Angola</td>\n",
       "      <td>32866272</td>\n",
       "      <td>1246700.0</td>\n",
       "      <td>26</td>\n",
       "    </tr>\n",
       "  </tbody>\n",
       "</table>\n",
       "</div>"
      ],
      "text/plain": [
       "       textID                                               text  \\\n",
       "0  cb774db0d1                I`d have responded, if I were going   \n",
       "1  549e992a42      Sooo SAD I will miss you here in San Diego!!!   \n",
       "2  088c60f138                          my boss is bullying me...   \n",
       "3  9642c003ef                     what interview! leave me alone   \n",
       "4  358bd9e861   Sons of ****, why couldn`t they put them on t...   \n",
       "\n",
       "                         selected_text sentiment Time of Tweet Age of User  \\\n",
       "0  I`d have responded, if I were going   neutral       morning        0-20   \n",
       "1                             Sooo SAD  negative          noon       21-30   \n",
       "2                          bullying me  negative         night       31-45   \n",
       "3                       leave me alone  negative       morning       46-60   \n",
       "4                        Sons of ****,  negative          noon       60-70   \n",
       "\n",
       "       Country  Population -2020  Land Area (Km²)  Density (P/Km²)  \n",
       "0  Afghanistan          38928346         652860.0               60  \n",
       "1      Albania           2877797          27400.0              105  \n",
       "2      Algeria          43851044        2381740.0               18  \n",
       "3      Andorra             77265            470.0              164  \n",
       "4       Angola          32866272        1246700.0               26  "
      ]
     },
     "execution_count": 4,
     "metadata": {},
     "output_type": "execute_result"
    }
   ],
   "source": [
    "train_df = pd.read_csv(\"/content/sentiment-analysis-dataset/train.csv\",encoding= 'unicode_escape')\n",
    "train_df.head()"
   ]
  },
  {
   "cell_type": "code",
   "execution_count": 5,
   "metadata": {
    "execution": {
     "iopub.execute_input": "2023-04-19T11:33:34.179971Z",
     "iopub.status.busy": "2023-04-19T11:33:34.179605Z",
     "iopub.status.idle": "2023-04-19T11:33:34.212301Z",
     "shell.execute_reply": "2023-04-19T11:33:34.211330Z",
     "shell.execute_reply.started": "2023-04-19T11:33:34.179939Z"
    }
   },
   "outputs": [
    {
     "data": {
      "text/html": [
       "<div>\n",
       "<style scoped>\n",
       "    .dataframe tbody tr th:only-of-type {\n",
       "        vertical-align: middle;\n",
       "    }\n",
       "\n",
       "    .dataframe tbody tr th {\n",
       "        vertical-align: top;\n",
       "    }\n",
       "\n",
       "    .dataframe thead th {\n",
       "        text-align: right;\n",
       "    }\n",
       "</style>\n",
       "<table border=\"1\" class=\"dataframe\">\n",
       "  <thead>\n",
       "    <tr style=\"text-align: right;\">\n",
       "      <th></th>\n",
       "      <th>textID</th>\n",
       "      <th>text</th>\n",
       "      <th>selected_text</th>\n",
       "      <th>sentiment</th>\n",
       "      <th>Time of Tweet</th>\n",
       "      <th>Age of User</th>\n",
       "      <th>Country</th>\n",
       "      <th>Population -2020</th>\n",
       "      <th>Land Area (Km²)</th>\n",
       "      <th>Density (P/Km²)</th>\n",
       "    </tr>\n",
       "  </thead>\n",
       "  <tbody>\n",
       "    <tr>\n",
       "      <th>0</th>\n",
       "      <td>False</td>\n",
       "      <td>False</td>\n",
       "      <td>False</td>\n",
       "      <td>False</td>\n",
       "      <td>False</td>\n",
       "      <td>False</td>\n",
       "      <td>False</td>\n",
       "      <td>False</td>\n",
       "      <td>False</td>\n",
       "      <td>False</td>\n",
       "    </tr>\n",
       "    <tr>\n",
       "      <th>1</th>\n",
       "      <td>False</td>\n",
       "      <td>False</td>\n",
       "      <td>False</td>\n",
       "      <td>False</td>\n",
       "      <td>False</td>\n",
       "      <td>False</td>\n",
       "      <td>False</td>\n",
       "      <td>False</td>\n",
       "      <td>False</td>\n",
       "      <td>False</td>\n",
       "    </tr>\n",
       "    <tr>\n",
       "      <th>2</th>\n",
       "      <td>False</td>\n",
       "      <td>False</td>\n",
       "      <td>False</td>\n",
       "      <td>False</td>\n",
       "      <td>False</td>\n",
       "      <td>False</td>\n",
       "      <td>False</td>\n",
       "      <td>False</td>\n",
       "      <td>False</td>\n",
       "      <td>False</td>\n",
       "    </tr>\n",
       "    <tr>\n",
       "      <th>3</th>\n",
       "      <td>False</td>\n",
       "      <td>False</td>\n",
       "      <td>False</td>\n",
       "      <td>False</td>\n",
       "      <td>False</td>\n",
       "      <td>False</td>\n",
       "      <td>False</td>\n",
       "      <td>False</td>\n",
       "      <td>False</td>\n",
       "      <td>False</td>\n",
       "    </tr>\n",
       "    <tr>\n",
       "      <th>4</th>\n",
       "      <td>False</td>\n",
       "      <td>False</td>\n",
       "      <td>False</td>\n",
       "      <td>False</td>\n",
       "      <td>False</td>\n",
       "      <td>False</td>\n",
       "      <td>False</td>\n",
       "      <td>False</td>\n",
       "      <td>False</td>\n",
       "      <td>False</td>\n",
       "    </tr>\n",
       "    <tr>\n",
       "      <th>...</th>\n",
       "      <td>...</td>\n",
       "      <td>...</td>\n",
       "      <td>...</td>\n",
       "      <td>...</td>\n",
       "      <td>...</td>\n",
       "      <td>...</td>\n",
       "      <td>...</td>\n",
       "      <td>...</td>\n",
       "      <td>...</td>\n",
       "      <td>...</td>\n",
       "    </tr>\n",
       "    <tr>\n",
       "      <th>27476</th>\n",
       "      <td>False</td>\n",
       "      <td>False</td>\n",
       "      <td>False</td>\n",
       "      <td>False</td>\n",
       "      <td>False</td>\n",
       "      <td>False</td>\n",
       "      <td>False</td>\n",
       "      <td>False</td>\n",
       "      <td>False</td>\n",
       "      <td>False</td>\n",
       "    </tr>\n",
       "    <tr>\n",
       "      <th>27477</th>\n",
       "      <td>False</td>\n",
       "      <td>False</td>\n",
       "      <td>False</td>\n",
       "      <td>False</td>\n",
       "      <td>False</td>\n",
       "      <td>False</td>\n",
       "      <td>False</td>\n",
       "      <td>False</td>\n",
       "      <td>False</td>\n",
       "      <td>False</td>\n",
       "    </tr>\n",
       "    <tr>\n",
       "      <th>27478</th>\n",
       "      <td>False</td>\n",
       "      <td>False</td>\n",
       "      <td>False</td>\n",
       "      <td>False</td>\n",
       "      <td>False</td>\n",
       "      <td>False</td>\n",
       "      <td>False</td>\n",
       "      <td>False</td>\n",
       "      <td>False</td>\n",
       "      <td>False</td>\n",
       "    </tr>\n",
       "    <tr>\n",
       "      <th>27479</th>\n",
       "      <td>False</td>\n",
       "      <td>False</td>\n",
       "      <td>False</td>\n",
       "      <td>False</td>\n",
       "      <td>False</td>\n",
       "      <td>False</td>\n",
       "      <td>False</td>\n",
       "      <td>False</td>\n",
       "      <td>False</td>\n",
       "      <td>False</td>\n",
       "    </tr>\n",
       "    <tr>\n",
       "      <th>27480</th>\n",
       "      <td>False</td>\n",
       "      <td>False</td>\n",
       "      <td>False</td>\n",
       "      <td>False</td>\n",
       "      <td>False</td>\n",
       "      <td>False</td>\n",
       "      <td>False</td>\n",
       "      <td>False</td>\n",
       "      <td>False</td>\n",
       "      <td>False</td>\n",
       "    </tr>\n",
       "  </tbody>\n",
       "</table>\n",
       "<p>27481 rows × 10 columns</p>\n",
       "</div>"
      ],
      "text/plain": [
       "       textID   text  selected_text  sentiment  Time of Tweet  Age of User  \\\n",
       "0       False  False          False      False          False        False   \n",
       "1       False  False          False      False          False        False   \n",
       "2       False  False          False      False          False        False   \n",
       "3       False  False          False      False          False        False   \n",
       "4       False  False          False      False          False        False   \n",
       "...       ...    ...            ...        ...            ...          ...   \n",
       "27476   False  False          False      False          False        False   \n",
       "27477   False  False          False      False          False        False   \n",
       "27478   False  False          False      False          False        False   \n",
       "27479   False  False          False      False          False        False   \n",
       "27480   False  False          False      False          False        False   \n",
       "\n",
       "       Country  Population -2020  Land Area (Km²)  Density (P/Km²)  \n",
       "0        False             False            False            False  \n",
       "1        False             False            False            False  \n",
       "2        False             False            False            False  \n",
       "3        False             False            False            False  \n",
       "4        False             False            False            False  \n",
       "...        ...               ...              ...              ...  \n",
       "27476    False             False            False            False  \n",
       "27477    False             False            False            False  \n",
       "27478    False             False            False            False  \n",
       "27479    False             False            False            False  \n",
       "27480    False             False            False            False  \n",
       "\n",
       "[27481 rows x 10 columns]"
      ]
     },
     "execution_count": 5,
     "metadata": {},
     "output_type": "execute_result"
    }
   ],
   "source": [
    "train_df.isna()"
   ]
  },
  {
   "cell_type": "code",
   "execution_count": 6,
   "metadata": {
    "execution": {
     "iopub.execute_input": "2023-04-19T11:33:43.653656Z",
     "iopub.status.busy": "2023-04-19T11:33:43.653168Z",
     "iopub.status.idle": "2023-04-19T11:33:43.667964Z",
     "shell.execute_reply": "2023-04-19T11:33:43.666900Z",
     "shell.execute_reply.started": "2023-04-19T11:33:43.653620Z"
    }
   },
   "outputs": [
    {
     "data": {
      "text/plain": [
       "neutral     11118\n",
       "positive     8582\n",
       "negative     7781\n",
       "Name: sentiment, dtype: int64"
      ]
     },
     "execution_count": 6,
     "metadata": {},
     "output_type": "execute_result"
    }
   ],
   "source": [
    "train_df['sentiment'].value_counts()"
   ]
  },
  {
   "cell_type": "code",
   "execution_count": 7,
   "metadata": {
    "execution": {
     "iopub.execute_input": "2023-04-19T11:33:46.252573Z",
     "iopub.status.busy": "2023-04-19T11:33:46.252124Z",
     "iopub.status.idle": "2023-04-19T11:33:46.297602Z",
     "shell.execute_reply": "2023-04-19T11:33:46.296484Z",
     "shell.execute_reply.started": "2023-04-19T11:33:46.252517Z"
    }
   },
   "outputs": [
    {
     "data": {
      "text/html": [
       "<div>\n",
       "<style scoped>\n",
       "    .dataframe tbody tr th:only-of-type {\n",
       "        vertical-align: middle;\n",
       "    }\n",
       "\n",
       "    .dataframe tbody tr th {\n",
       "        vertical-align: top;\n",
       "    }\n",
       "\n",
       "    .dataframe thead th {\n",
       "        text-align: right;\n",
       "    }\n",
       "</style>\n",
       "<table border=\"1\" class=\"dataframe\">\n",
       "  <thead>\n",
       "    <tr style=\"text-align: right;\">\n",
       "      <th></th>\n",
       "      <th>textID</th>\n",
       "      <th>text</th>\n",
       "      <th>sentiment</th>\n",
       "      <th>Time of Tweet</th>\n",
       "      <th>Age of User</th>\n",
       "      <th>Country</th>\n",
       "      <th>Population -2020</th>\n",
       "      <th>Land Area (Km²)</th>\n",
       "      <th>Density (P/Km²)</th>\n",
       "    </tr>\n",
       "  </thead>\n",
       "  <tbody>\n",
       "    <tr>\n",
       "      <th>0</th>\n",
       "      <td>f87dea47db</td>\n",
       "      <td>Last session of the day  http://twitpic.com/67ezh</td>\n",
       "      <td>neutral</td>\n",
       "      <td>morning</td>\n",
       "      <td>0-20</td>\n",
       "      <td>Afghanistan</td>\n",
       "      <td>38928346.0</td>\n",
       "      <td>652860.0</td>\n",
       "      <td>60.0</td>\n",
       "    </tr>\n",
       "    <tr>\n",
       "      <th>1</th>\n",
       "      <td>96d74cb729</td>\n",
       "      <td>Shanghai is also really exciting (precisely -...</td>\n",
       "      <td>positive</td>\n",
       "      <td>noon</td>\n",
       "      <td>21-30</td>\n",
       "      <td>Albania</td>\n",
       "      <td>2877797.0</td>\n",
       "      <td>27400.0</td>\n",
       "      <td>105.0</td>\n",
       "    </tr>\n",
       "    <tr>\n",
       "      <th>2</th>\n",
       "      <td>eee518ae67</td>\n",
       "      <td>Recession hit Veronique Branquinho, she has to...</td>\n",
       "      <td>negative</td>\n",
       "      <td>night</td>\n",
       "      <td>31-45</td>\n",
       "      <td>Algeria</td>\n",
       "      <td>43851044.0</td>\n",
       "      <td>2381740.0</td>\n",
       "      <td>18.0</td>\n",
       "    </tr>\n",
       "    <tr>\n",
       "      <th>3</th>\n",
       "      <td>01082688c6</td>\n",
       "      <td>happy bday!</td>\n",
       "      <td>positive</td>\n",
       "      <td>morning</td>\n",
       "      <td>46-60</td>\n",
       "      <td>Andorra</td>\n",
       "      <td>77265.0</td>\n",
       "      <td>470.0</td>\n",
       "      <td>164.0</td>\n",
       "    </tr>\n",
       "    <tr>\n",
       "      <th>4</th>\n",
       "      <td>33987a8ee5</td>\n",
       "      <td>http://twitpic.com/4w75p - I like it!!</td>\n",
       "      <td>positive</td>\n",
       "      <td>noon</td>\n",
       "      <td>60-70</td>\n",
       "      <td>Angola</td>\n",
       "      <td>32866272.0</td>\n",
       "      <td>1246700.0</td>\n",
       "      <td>26.0</td>\n",
       "    </tr>\n",
       "  </tbody>\n",
       "</table>\n",
       "</div>"
      ],
      "text/plain": [
       "       textID                                               text sentiment  \\\n",
       "0  f87dea47db  Last session of the day  http://twitpic.com/67ezh   neutral   \n",
       "1  96d74cb729   Shanghai is also really exciting (precisely -...  positive   \n",
       "2  eee518ae67  Recession hit Veronique Branquinho, she has to...  negative   \n",
       "3  01082688c6                                        happy bday!  positive   \n",
       "4  33987a8ee5             http://twitpic.com/4w75p - I like it!!  positive   \n",
       "\n",
       "  Time of Tweet Age of User      Country  Population -2020  Land Area (Km²)  \\\n",
       "0       morning        0-20  Afghanistan        38928346.0         652860.0   \n",
       "1          noon       21-30      Albania         2877797.0          27400.0   \n",
       "2         night       31-45      Algeria        43851044.0        2381740.0   \n",
       "3       morning       46-60      Andorra           77265.0            470.0   \n",
       "4          noon       60-70       Angola        32866272.0        1246700.0   \n",
       "\n",
       "   Density (P/Km²)  \n",
       "0             60.0  \n",
       "1            105.0  \n",
       "2             18.0  \n",
       "3            164.0  \n",
       "4             26.0  "
      ]
     },
     "execution_count": 7,
     "metadata": {},
     "output_type": "execute_result"
    }
   ],
   "source": [
    "test_df = pd.read_csv(\"/content/sentiment-analysis-dataset/test.csv\",encoding= 'unicode_escape')\n",
    "test_df.head()"
   ]
  },
  {
   "cell_type": "code",
   "execution_count": 8,
   "metadata": {
    "execution": {
     "iopub.execute_input": "2023-04-19T11:34:02.123980Z",
     "iopub.status.busy": "2023-04-19T11:34:02.123523Z",
     "iopub.status.idle": "2023-04-19T11:34:02.135571Z",
     "shell.execute_reply": "2023-04-19T11:34:02.134246Z",
     "shell.execute_reply.started": "2023-04-19T11:34:02.123938Z"
    }
   },
   "outputs": [
    {
     "data": {
      "text/plain": [
       "neutral     1430\n",
       "positive    1103\n",
       "negative    1001\n",
       "Name: sentiment, dtype: int64"
      ]
     },
     "execution_count": 8,
     "metadata": {},
     "output_type": "execute_result"
    }
   ],
   "source": [
    "test_df['sentiment'].value_counts()"
   ]
  },
  {
   "cell_type": "code",
   "execution_count": 12,
   "metadata": {
    "execution": {
     "iopub.execute_input": "2023-04-19T11:35:05.873112Z",
     "iopub.status.busy": "2023-04-19T11:35:05.872644Z",
     "iopub.status.idle": "2023-04-19T11:35:05.885404Z",
     "shell.execute_reply": "2023-04-19T11:35:05.884255Z",
     "shell.execute_reply.started": "2023-04-19T11:35:05.873070Z"
    }
   },
   "outputs": [],
   "source": [
    "test_df = test_df.dropna()"
   ]
  },
  {
   "cell_type": "code",
   "execution_count": 22,
   "metadata": {
    "execution": {
     "iopub.execute_input": "2023-04-19T11:37:45.934988Z",
     "iopub.status.busy": "2023-04-19T11:37:45.934286Z",
     "iopub.status.idle": "2023-04-19T11:37:45.957068Z",
     "shell.execute_reply": "2023-04-19T11:37:45.955920Z",
     "shell.execute_reply.started": "2023-04-19T11:37:45.934949Z"
    }
   },
   "outputs": [
    {
     "data": {
      "text/html": [
       "<div>\n",
       "<style scoped>\n",
       "    .dataframe tbody tr th:only-of-type {\n",
       "        vertical-align: middle;\n",
       "    }\n",
       "\n",
       "    .dataframe tbody tr th {\n",
       "        vertical-align: top;\n",
       "    }\n",
       "\n",
       "    .dataframe thead th {\n",
       "        text-align: right;\n",
       "    }\n",
       "</style>\n",
       "<table border=\"1\" class=\"dataframe\">\n",
       "  <thead>\n",
       "    <tr style=\"text-align: right;\">\n",
       "      <th></th>\n",
       "      <th>textID</th>\n",
       "      <th>text</th>\n",
       "      <th>sentiment</th>\n",
       "      <th>Time of Tweet</th>\n",
       "      <th>Age of User</th>\n",
       "      <th>Country</th>\n",
       "      <th>Population -2020</th>\n",
       "      <th>Land Area (Km²)</th>\n",
       "      <th>Density (P/Km²)</th>\n",
       "    </tr>\n",
       "  </thead>\n",
       "  <tbody>\n",
       "    <tr>\n",
       "      <th>0</th>\n",
       "      <td>False</td>\n",
       "      <td>False</td>\n",
       "      <td>False</td>\n",
       "      <td>False</td>\n",
       "      <td>False</td>\n",
       "      <td>False</td>\n",
       "      <td>False</td>\n",
       "      <td>False</td>\n",
       "      <td>False</td>\n",
       "    </tr>\n",
       "    <tr>\n",
       "      <th>1</th>\n",
       "      <td>False</td>\n",
       "      <td>False</td>\n",
       "      <td>False</td>\n",
       "      <td>False</td>\n",
       "      <td>False</td>\n",
       "      <td>False</td>\n",
       "      <td>False</td>\n",
       "      <td>False</td>\n",
       "      <td>False</td>\n",
       "    </tr>\n",
       "    <tr>\n",
       "      <th>2</th>\n",
       "      <td>False</td>\n",
       "      <td>False</td>\n",
       "      <td>False</td>\n",
       "      <td>False</td>\n",
       "      <td>False</td>\n",
       "      <td>False</td>\n",
       "      <td>False</td>\n",
       "      <td>False</td>\n",
       "      <td>False</td>\n",
       "    </tr>\n",
       "    <tr>\n",
       "      <th>3</th>\n",
       "      <td>False</td>\n",
       "      <td>False</td>\n",
       "      <td>False</td>\n",
       "      <td>False</td>\n",
       "      <td>False</td>\n",
       "      <td>False</td>\n",
       "      <td>False</td>\n",
       "      <td>False</td>\n",
       "      <td>False</td>\n",
       "    </tr>\n",
       "    <tr>\n",
       "      <th>4</th>\n",
       "      <td>False</td>\n",
       "      <td>False</td>\n",
       "      <td>False</td>\n",
       "      <td>False</td>\n",
       "      <td>False</td>\n",
       "      <td>False</td>\n",
       "      <td>False</td>\n",
       "      <td>False</td>\n",
       "      <td>False</td>\n",
       "    </tr>\n",
       "    <tr>\n",
       "      <th>...</th>\n",
       "      <td>...</td>\n",
       "      <td>...</td>\n",
       "      <td>...</td>\n",
       "      <td>...</td>\n",
       "      <td>...</td>\n",
       "      <td>...</td>\n",
       "      <td>...</td>\n",
       "      <td>...</td>\n",
       "      <td>...</td>\n",
       "    </tr>\n",
       "    <tr>\n",
       "      <th>3529</th>\n",
       "      <td>False</td>\n",
       "      <td>False</td>\n",
       "      <td>False</td>\n",
       "      <td>False</td>\n",
       "      <td>False</td>\n",
       "      <td>False</td>\n",
       "      <td>False</td>\n",
       "      <td>False</td>\n",
       "      <td>False</td>\n",
       "    </tr>\n",
       "    <tr>\n",
       "      <th>3530</th>\n",
       "      <td>False</td>\n",
       "      <td>False</td>\n",
       "      <td>False</td>\n",
       "      <td>False</td>\n",
       "      <td>False</td>\n",
       "      <td>False</td>\n",
       "      <td>False</td>\n",
       "      <td>False</td>\n",
       "      <td>False</td>\n",
       "    </tr>\n",
       "    <tr>\n",
       "      <th>3531</th>\n",
       "      <td>False</td>\n",
       "      <td>False</td>\n",
       "      <td>False</td>\n",
       "      <td>False</td>\n",
       "      <td>False</td>\n",
       "      <td>False</td>\n",
       "      <td>False</td>\n",
       "      <td>False</td>\n",
       "      <td>False</td>\n",
       "    </tr>\n",
       "    <tr>\n",
       "      <th>3532</th>\n",
       "      <td>False</td>\n",
       "      <td>False</td>\n",
       "      <td>False</td>\n",
       "      <td>False</td>\n",
       "      <td>False</td>\n",
       "      <td>False</td>\n",
       "      <td>False</td>\n",
       "      <td>False</td>\n",
       "      <td>False</td>\n",
       "    </tr>\n",
       "    <tr>\n",
       "      <th>3533</th>\n",
       "      <td>False</td>\n",
       "      <td>False</td>\n",
       "      <td>False</td>\n",
       "      <td>False</td>\n",
       "      <td>False</td>\n",
       "      <td>False</td>\n",
       "      <td>False</td>\n",
       "      <td>False</td>\n",
       "      <td>False</td>\n",
       "    </tr>\n",
       "  </tbody>\n",
       "</table>\n",
       "<p>3534 rows × 9 columns</p>\n",
       "</div>"
      ],
      "text/plain": [
       "      textID   text  sentiment  Time of Tweet  Age of User  Country  \\\n",
       "0      False  False      False          False        False    False   \n",
       "1      False  False      False          False        False    False   \n",
       "2      False  False      False          False        False    False   \n",
       "3      False  False      False          False        False    False   \n",
       "4      False  False      False          False        False    False   \n",
       "...      ...    ...        ...            ...          ...      ...   \n",
       "3529   False  False      False          False        False    False   \n",
       "3530   False  False      False          False        False    False   \n",
       "3531   False  False      False          False        False    False   \n",
       "3532   False  False      False          False        False    False   \n",
       "3533   False  False      False          False        False    False   \n",
       "\n",
       "      Population -2020  Land Area (Km²)  Density (P/Km²)  \n",
       "0                False            False            False  \n",
       "1                False            False            False  \n",
       "2                False            False            False  \n",
       "3                False            False            False  \n",
       "4                False            False            False  \n",
       "...                ...              ...              ...  \n",
       "3529             False            False            False  \n",
       "3530             False            False            False  \n",
       "3531             False            False            False  \n",
       "3532             False            False            False  \n",
       "3533             False            False            False  \n",
       "\n",
       "[3534 rows x 9 columns]"
      ]
     },
     "execution_count": 22,
     "metadata": {},
     "output_type": "execute_result"
    }
   ],
   "source": [
    "test_df.isna()"
   ]
  },
  {
   "cell_type": "code",
   "execution_count": 14,
   "metadata": {
    "execution": {
     "iopub.execute_input": "2023-04-19T11:35:11.215156Z",
     "iopub.status.busy": "2023-04-19T11:35:11.214493Z",
     "iopub.status.idle": "2023-04-19T11:35:11.230762Z",
     "shell.execute_reply": "2023-04-19T11:35:11.229642Z",
     "shell.execute_reply.started": "2023-04-19T11:35:11.215119Z"
    }
   },
   "outputs": [],
   "source": [
    "train_df.sentiment.replace(\"positive\", 1, inplace=True)\n",
    "train_df.sentiment.replace(\"negative\", 0, inplace=True)\n",
    "train_df.sentiment.replace(\"neutral\", 2, inplace=True)"
   ]
  },
  {
   "cell_type": "code",
   "execution_count": 15,
   "metadata": {
    "execution": {
     "iopub.execute_input": "2023-04-19T11:35:14.835136Z",
     "iopub.status.busy": "2023-04-19T11:35:14.834458Z",
     "iopub.status.idle": "2023-04-19T11:35:14.848070Z",
     "shell.execute_reply": "2023-04-19T11:35:14.846789Z",
     "shell.execute_reply.started": "2023-04-19T11:35:14.835098Z"
    }
   },
   "outputs": [
    {
     "name": "stderr",
     "output_type": "stream",
     "text": [
      "/opt/conda/lib/python3.7/site-packages/pandas/core/generic.py:6619: SettingWithCopyWarning: \n",
      "A value is trying to be set on a copy of a slice from a DataFrame\n",
      "\n",
      "See the caveats in the documentation: https://pandas.pydata.org/pandas-docs/stable/user_guide/indexing.html#returning-a-view-versus-a-copy\n",
      "  return self._update_inplace(result)\n"
     ]
    }
   ],
   "source": [
    "test_df.sentiment.replace(\"positive\", 1, inplace=True)\n",
    "test_df.sentiment.replace(\"negative\", 0, inplace=True)\n",
    "test_df.sentiment.replace(\"neutral\", 2, inplace=True)"
   ]
  },
  {
   "cell_type": "code",
   "execution_count": 16,
   "metadata": {
    "execution": {
     "iopub.execute_input": "2023-04-19T11:35:44.862861Z",
     "iopub.status.busy": "2023-04-19T11:35:44.862158Z",
     "iopub.status.idle": "2023-04-19T11:35:44.885102Z",
     "shell.execute_reply": "2023-04-19T11:35:44.883982Z",
     "shell.execute_reply.started": "2023-04-19T11:35:44.862821Z"
    }
   },
   "outputs": [
    {
     "data": {
      "text/html": [
       "<div>\n",
       "<style scoped>\n",
       "    .dataframe tbody tr th:only-of-type {\n",
       "        vertical-align: middle;\n",
       "    }\n",
       "\n",
       "    .dataframe tbody tr th {\n",
       "        vertical-align: top;\n",
       "    }\n",
       "\n",
       "    .dataframe thead th {\n",
       "        text-align: right;\n",
       "    }\n",
       "</style>\n",
       "<table border=\"1\" class=\"dataframe\">\n",
       "  <thead>\n",
       "    <tr style=\"text-align: right;\">\n",
       "      <th></th>\n",
       "      <th>textID</th>\n",
       "      <th>text</th>\n",
       "      <th>sentiment</th>\n",
       "      <th>Time of Tweet</th>\n",
       "      <th>Age of User</th>\n",
       "      <th>Country</th>\n",
       "      <th>Population -2020</th>\n",
       "      <th>Land Area (Km²)</th>\n",
       "      <th>Density (P/Km²)</th>\n",
       "    </tr>\n",
       "  </thead>\n",
       "  <tbody>\n",
       "    <tr>\n",
       "      <th>0</th>\n",
       "      <td>f87dea47db</td>\n",
       "      <td>Last session of the day  http://twitpic.com/67ezh</td>\n",
       "      <td>2</td>\n",
       "      <td>morning</td>\n",
       "      <td>0-20</td>\n",
       "      <td>Afghanistan</td>\n",
       "      <td>38928346.0</td>\n",
       "      <td>652860.0</td>\n",
       "      <td>60.0</td>\n",
       "    </tr>\n",
       "    <tr>\n",
       "      <th>1</th>\n",
       "      <td>96d74cb729</td>\n",
       "      <td>Shanghai is also really exciting (precisely -...</td>\n",
       "      <td>1</td>\n",
       "      <td>noon</td>\n",
       "      <td>21-30</td>\n",
       "      <td>Albania</td>\n",
       "      <td>2877797.0</td>\n",
       "      <td>27400.0</td>\n",
       "      <td>105.0</td>\n",
       "    </tr>\n",
       "    <tr>\n",
       "      <th>2</th>\n",
       "      <td>eee518ae67</td>\n",
       "      <td>Recession hit Veronique Branquinho, she has to...</td>\n",
       "      <td>0</td>\n",
       "      <td>night</td>\n",
       "      <td>31-45</td>\n",
       "      <td>Algeria</td>\n",
       "      <td>43851044.0</td>\n",
       "      <td>2381740.0</td>\n",
       "      <td>18.0</td>\n",
       "    </tr>\n",
       "    <tr>\n",
       "      <th>3</th>\n",
       "      <td>01082688c6</td>\n",
       "      <td>happy bday!</td>\n",
       "      <td>1</td>\n",
       "      <td>morning</td>\n",
       "      <td>46-60</td>\n",
       "      <td>Andorra</td>\n",
       "      <td>77265.0</td>\n",
       "      <td>470.0</td>\n",
       "      <td>164.0</td>\n",
       "    </tr>\n",
       "    <tr>\n",
       "      <th>4</th>\n",
       "      <td>33987a8ee5</td>\n",
       "      <td>http://twitpic.com/4w75p - I like it!!</td>\n",
       "      <td>1</td>\n",
       "      <td>noon</td>\n",
       "      <td>60-70</td>\n",
       "      <td>Angola</td>\n",
       "      <td>32866272.0</td>\n",
       "      <td>1246700.0</td>\n",
       "      <td>26.0</td>\n",
       "    </tr>\n",
       "    <tr>\n",
       "      <th>...</th>\n",
       "      <td>...</td>\n",
       "      <td>...</td>\n",
       "      <td>...</td>\n",
       "      <td>...</td>\n",
       "      <td>...</td>\n",
       "      <td>...</td>\n",
       "      <td>...</td>\n",
       "      <td>...</td>\n",
       "      <td>...</td>\n",
       "    </tr>\n",
       "    <tr>\n",
       "      <th>3529</th>\n",
       "      <td>e5f0e6ef4b</td>\n",
       "      <td>its at 3 am, im very tired but i can`t sleep  ...</td>\n",
       "      <td>0</td>\n",
       "      <td>noon</td>\n",
       "      <td>21-30</td>\n",
       "      <td>Nicaragua</td>\n",
       "      <td>6624554.0</td>\n",
       "      <td>120340.0</td>\n",
       "      <td>55.0</td>\n",
       "    </tr>\n",
       "    <tr>\n",
       "      <th>3530</th>\n",
       "      <td>416863ce47</td>\n",
       "      <td>All alone in this old house again.  Thanks for...</td>\n",
       "      <td>1</td>\n",
       "      <td>night</td>\n",
       "      <td>31-45</td>\n",
       "      <td>Niger</td>\n",
       "      <td>24206644.0</td>\n",
       "      <td>1266700.0</td>\n",
       "      <td>19.0</td>\n",
       "    </tr>\n",
       "    <tr>\n",
       "      <th>3531</th>\n",
       "      <td>6332da480c</td>\n",
       "      <td>I know what you mean. My little dog is sinkin...</td>\n",
       "      <td>0</td>\n",
       "      <td>morning</td>\n",
       "      <td>46-60</td>\n",
       "      <td>Nigeria</td>\n",
       "      <td>206139589.0</td>\n",
       "      <td>910770.0</td>\n",
       "      <td>226.0</td>\n",
       "    </tr>\n",
       "    <tr>\n",
       "      <th>3532</th>\n",
       "      <td>df1baec676</td>\n",
       "      <td>_sutra what is your next youtube video gonna b...</td>\n",
       "      <td>1</td>\n",
       "      <td>noon</td>\n",
       "      <td>60-70</td>\n",
       "      <td>North Korea</td>\n",
       "      <td>25778816.0</td>\n",
       "      <td>120410.0</td>\n",
       "      <td>214.0</td>\n",
       "    </tr>\n",
       "    <tr>\n",
       "      <th>3533</th>\n",
       "      <td>469e15c5a8</td>\n",
       "      <td>http://twitpic.com/4woj2 - omgssh  ang cute n...</td>\n",
       "      <td>1</td>\n",
       "      <td>night</td>\n",
       "      <td>70-100</td>\n",
       "      <td>North Macedonia</td>\n",
       "      <td>2083374.0</td>\n",
       "      <td>25220.0</td>\n",
       "      <td>83.0</td>\n",
       "    </tr>\n",
       "  </tbody>\n",
       "</table>\n",
       "<p>3534 rows × 9 columns</p>\n",
       "</div>"
      ],
      "text/plain": [
       "          textID                                               text  \\\n",
       "0     f87dea47db  Last session of the day  http://twitpic.com/67ezh   \n",
       "1     96d74cb729   Shanghai is also really exciting (precisely -...   \n",
       "2     eee518ae67  Recession hit Veronique Branquinho, she has to...   \n",
       "3     01082688c6                                        happy bday!   \n",
       "4     33987a8ee5             http://twitpic.com/4w75p - I like it!!   \n",
       "...          ...                                                ...   \n",
       "3529  e5f0e6ef4b  its at 3 am, im very tired but i can`t sleep  ...   \n",
       "3530  416863ce47  All alone in this old house again.  Thanks for...   \n",
       "3531  6332da480c   I know what you mean. My little dog is sinkin...   \n",
       "3532  df1baec676  _sutra what is your next youtube video gonna b...   \n",
       "3533  469e15c5a8   http://twitpic.com/4woj2 - omgssh  ang cute n...   \n",
       "\n",
       "      sentiment Time of Tweet Age of User          Country  Population -2020  \\\n",
       "0             2       morning        0-20      Afghanistan        38928346.0   \n",
       "1             1          noon       21-30          Albania         2877797.0   \n",
       "2             0         night       31-45          Algeria        43851044.0   \n",
       "3             1       morning       46-60          Andorra           77265.0   \n",
       "4             1          noon       60-70           Angola        32866272.0   \n",
       "...         ...           ...         ...              ...               ...   \n",
       "3529          0          noon       21-30        Nicaragua         6624554.0   \n",
       "3530          1         night       31-45            Niger        24206644.0   \n",
       "3531          0       morning       46-60          Nigeria       206139589.0   \n",
       "3532          1          noon       60-70      North Korea        25778816.0   \n",
       "3533          1         night      70-100  North Macedonia         2083374.0   \n",
       "\n",
       "      Land Area (Km²)  Density (P/Km²)  \n",
       "0            652860.0             60.0  \n",
       "1             27400.0            105.0  \n",
       "2           2381740.0             18.0  \n",
       "3               470.0            164.0  \n",
       "4           1246700.0             26.0  \n",
       "...               ...              ...  \n",
       "3529         120340.0             55.0  \n",
       "3530        1266700.0             19.0  \n",
       "3531         910770.0            226.0  \n",
       "3532         120410.0            214.0  \n",
       "3533          25220.0             83.0  \n",
       "\n",
       "[3534 rows x 9 columns]"
      ]
     },
     "execution_count": 16,
     "metadata": {},
     "output_type": "execute_result"
    }
   ],
   "source": [
    "test_df"
   ]
  },
  {
   "cell_type": "code",
   "execution_count": 17,
   "metadata": {
    "execution": {
     "iopub.execute_input": "2023-04-19T11:35:51.854214Z",
     "iopub.status.busy": "2023-04-19T11:35:51.853659Z",
     "iopub.status.idle": "2023-04-19T11:35:53.777216Z",
     "shell.execute_reply": "2023-04-19T11:35:53.776260Z",
     "shell.execute_reply.started": "2023-04-19T11:35:51.854169Z"
    }
   },
   "outputs": [
    {
     "data": {
      "application/vnd.jupyter.widget-view+json": {
       "model_id": "694318bcf89943f5acd99ee32a7501d8",
       "version_major": 2,
       "version_minor": 0
      },
      "text/plain": [
       "Downloading (…)solve/main/vocab.txt:   0%|          | 0.00/232k [00:00<?, ?B/s]"
      ]
     },
     "metadata": {},
     "output_type": "display_data"
    },
    {
     "data": {
      "application/vnd.jupyter.widget-view+json": {
       "model_id": "cb674cc12aa8499ab94a8dfc31533356",
       "version_major": 2,
       "version_minor": 0
      },
      "text/plain": [
       "Downloading (…)okenizer_config.json:   0%|          | 0.00/28.0 [00:00<?, ?B/s]"
      ]
     },
     "metadata": {},
     "output_type": "display_data"
    },
    {
     "data": {
      "application/vnd.jupyter.widget-view+json": {
       "model_id": "420e4f10100641f0ba46ab5151b74ff7",
       "version_major": 2,
       "version_minor": 0
      },
      "text/plain": [
       "Downloading (…)lve/main/config.json:   0%|          | 0.00/570 [00:00<?, ?B/s]"
      ]
     },
     "metadata": {},
     "output_type": "display_data"
    }
   ],
   "source": [
    "num_classes = 3\n",
    "\n",
    "bert_tokenizer = BertTokenizer.from_pretrained(\"bert-base-uncased\", do_lower_case=True)"
   ]
  },
  {
   "cell_type": "code",
   "execution_count": 18,
   "metadata": {
    "execution": {
     "iopub.execute_input": "2023-04-19T11:35:57.969974Z",
     "iopub.status.busy": "2023-04-19T11:35:57.969273Z",
     "iopub.status.idle": "2023-04-19T11:35:57.976066Z",
     "shell.execute_reply": "2023-04-19T11:35:57.974948Z",
     "shell.execute_reply.started": "2023-04-19T11:35:57.969933Z"
    }
   },
   "outputs": [
    {
     "name": "stdout",
     "output_type": "stream",
     "text": [
      "['a', 'wonderful', 'woman', '!']\n"
     ]
    }
   ],
   "source": [
    "sent = \"A wonderful woman!\"\n",
    "tokens = bert_tokenizer.tokenize(sent)\n",
    "print(tokens)"
   ]
  },
  {
   "cell_type": "code",
   "execution_count": 19,
   "metadata": {
    "execution": {
     "iopub.execute_input": "2023-04-19T11:35:59.455170Z",
     "iopub.status.busy": "2023-04-19T11:35:59.454469Z",
     "iopub.status.idle": "2023-04-19T11:35:59.461062Z",
     "shell.execute_reply": "2023-04-19T11:35:59.459902Z",
     "shell.execute_reply.started": "2023-04-19T11:35:59.455129Z"
    }
   },
   "outputs": [],
   "source": [
    "tokenized_sequence = bert_tokenizer.encode_plus(sent,\n",
    "                                                add_special_tokens=True,\n",
    "                                                max_length=10,\n",
    "                                                padding='max_length',\n",
    "                                                truncation=True,\n",
    "                                                return_attention_mask=True)"
   ]
  },
  {
   "cell_type": "code",
   "execution_count": 20,
   "metadata": {
    "execution": {
     "iopub.execute_input": "2023-04-19T11:36:00.450302Z",
     "iopub.status.busy": "2023-04-19T11:36:00.449376Z",
     "iopub.status.idle": "2023-04-19T11:36:00.456905Z",
     "shell.execute_reply": "2023-04-19T11:36:00.455801Z",
     "shell.execute_reply.started": "2023-04-19T11:36:00.450261Z"
    }
   },
   "outputs": [
    {
     "data": {
      "text/plain": [
       "{'input_ids': [101, 1037, 6919, 2450, 999, 102, 0, 0, 0, 0], 'token_type_ids': [0, 0, 0, 0, 0, 0, 0, 0, 0, 0], 'attention_mask': [1, 1, 1, 1, 1, 1, 0, 0, 0, 0]}"
      ]
     },
     "execution_count": 20,
     "metadata": {},
     "output_type": "execute_result"
    }
   ],
   "source": [
    "tokenized_sequence"
   ]
  },
  {
   "cell_type": "code",
   "execution_count": 21,
   "metadata": {
    "execution": {
     "iopub.execute_input": "2023-04-19T11:36:01.009467Z",
     "iopub.status.busy": "2023-04-19T11:36:01.008697Z",
     "iopub.status.idle": "2023-04-19T11:36:01.026833Z",
     "shell.execute_reply": "2023-04-19T11:36:01.025815Z",
     "shell.execute_reply.started": "2023-04-19T11:36:01.009424Z"
    }
   },
   "outputs": [
    {
     "data": {
      "text/plain": [
       "'[CLS] a wonderful woman ! [SEP] [PAD] [PAD] [PAD] [PAD]'"
      ]
     },
     "execution_count": 21,
     "metadata": {},
     "output_type": "execute_result"
    }
   ],
   "source": [
    "bert_tokenizer.decode(\n",
    "    tokenized_sequence['input_ids'],\n",
    "    clean_up_tokenization_spaces=False,\n",
    ")"
   ]
  },
  {
   "cell_type": "code",
   "execution_count": 24,
   "metadata": {
    "execution": {
     "iopub.execute_input": "2023-04-19T11:40:16.350516Z",
     "iopub.status.busy": "2023-04-19T11:40:16.349890Z",
     "iopub.status.idle": "2023-04-19T11:40:16.355490Z",
     "shell.execute_reply": "2023-04-19T11:40:16.354279Z",
     "shell.execute_reply.started": "2023-04-19T11:40:16.350477Z"
    }
   },
   "outputs": [],
   "source": [
    "train_labels = train_df['sentiment']\n",
    "test_labels = test_df['sentiment']"
   ]
  },
  {
   "cell_type": "code",
   "execution_count": 25,
   "metadata": {
    "execution": {
     "iopub.execute_input": "2023-04-19T11:40:18.023586Z",
     "iopub.status.busy": "2023-04-19T11:40:18.022513Z",
     "iopub.status.idle": "2023-04-19T11:40:18.029821Z",
     "shell.execute_reply": "2023-04-19T11:40:18.028493Z",
     "shell.execute_reply.started": "2023-04-19T11:40:18.023536Z"
    }
   },
   "outputs": [],
   "source": [
    "y_train = np.array(train_labels)\n",
    "y_test = np.array(test_labels)"
   ]
  },
  {
   "cell_type": "code",
   "execution_count": 26,
   "metadata": {
    "execution": {
     "iopub.execute_input": "2023-04-19T11:40:22.195652Z",
     "iopub.status.busy": "2023-04-19T11:40:22.194693Z",
     "iopub.status.idle": "2023-04-19T11:40:22.201725Z",
     "shell.execute_reply": "2023-04-19T11:40:22.200367Z",
     "shell.execute_reply.started": "2023-04-19T11:40:22.195597Z"
    }
   },
   "outputs": [],
   "source": [
    "def convert_example_to_feature(review):\n",
    "  return bert_tokenizer.encode_plus(review, \n",
    "                add_special_tokens = True,     # add [CLS], [SEP]\n",
    "                max_length = 512,              # max length of the text that can go to BERT\n",
    "                padding='max_length',\n",
    "                truncation=True,\n",
    "                return_attention_mask = True,  # add attention mask to not focus on pad tokens\n",
    "              )"
   ]
  },
  {
   "cell_type": "code",
   "execution_count": 27,
   "metadata": {
    "execution": {
     "iopub.execute_input": "2023-04-19T11:40:24.750165Z",
     "iopub.status.busy": "2023-04-19T11:40:24.749394Z",
     "iopub.status.idle": "2023-04-19T11:40:24.758507Z",
     "shell.execute_reply": "2023-04-19T11:40:24.757157Z",
     "shell.execute_reply.started": "2023-04-19T11:40:24.750121Z"
    }
   },
   "outputs": [],
   "source": [
    "# map to the expected input to TFBertForSequenceClassification\n",
    "def map_example_to_dict(input_ids, attention_masks, token_type_ids, label):\n",
    "  return {\n",
    "      \"input_ids\": input_ids,\n",
    "      \"token_type_ids\": token_type_ids,\n",
    "      \"attention_mask\": attention_masks,\n",
    "  }, label\n",
    "\n",
    "def encode_examples(ds):\n",
    "  # prepare list, so that we can build up final TensorFlow dataset from slices.\n",
    "  input_ids_list = []\n",
    "  token_type_ids_list = []\n",
    "  attention_mask_list = []\n",
    "  label_list = []\n",
    "  for review, label in ds:\n",
    "    bert_input = convert_example_to_feature(review)\n",
    "    input_ids_list.append(bert_input['input_ids'])\n",
    "    token_type_ids_list.append(bert_input['token_type_ids'])\n",
    "    attention_mask_list.append(bert_input['attention_mask'])\n",
    "    label_list.append([label])\n",
    "\n",
    "  return tf.data.Dataset.from_tensor_slices((input_ids_list, attention_mask_list, token_type_ids_list, label_list)).map(map_example_to_dict)\n"
   ]
  },
  {
   "cell_type": "code",
   "execution_count": 29,
   "metadata": {
    "execution": {
     "iopub.execute_input": "2023-04-19T11:40:48.373630Z",
     "iopub.status.busy": "2023-04-19T11:40:48.373226Z",
     "iopub.status.idle": "2023-04-19T11:40:48.380967Z",
     "shell.execute_reply": "2023-04-19T11:40:48.379885Z",
     "shell.execute_reply.started": "2023-04-19T11:40:48.373595Z"
    }
   },
   "outputs": [],
   "source": [
    "train_text = train_df['text']\n",
    "train_text = train_text.astype('str').to_list()"
   ]
  },
  {
   "cell_type": "code",
   "execution_count": 32,
   "metadata": {
    "execution": {
     "iopub.execute_input": "2023-04-19T11:41:24.646863Z",
     "iopub.status.busy": "2023-04-19T11:41:24.646263Z",
     "iopub.status.idle": "2023-04-19T11:41:24.653799Z",
     "shell.execute_reply": "2023-04-19T11:41:24.652614Z",
     "shell.execute_reply.started": "2023-04-19T11:41:24.646824Z"
    }
   },
   "outputs": [],
   "source": [
    "test_text = test_df['text']\n",
    "test_text = test_text.astype('str').to_list()"
   ]
  },
  {
   "cell_type": "code",
   "execution_count": 33,
   "metadata": {
    "execution": {
     "iopub.execute_input": "2023-04-19T11:41:33.009152Z",
     "iopub.status.busy": "2023-04-19T11:41:33.008242Z",
     "iopub.status.idle": "2023-04-19T11:43:58.651976Z",
     "shell.execute_reply": "2023-04-19T11:43:58.650945Z",
     "shell.execute_reply.started": "2023-04-19T11:41:33.009100Z"
    }
   },
   "outputs": [],
   "source": [
    "batch_size = 8\n",
    "# train dataset\n",
    "ds_train = zip(train_text, y_train)\n",
    "ds_test = zip(test_text, y_test)\n",
    "ds_train_encoded = encode_examples(ds_train).shuffle(len(train_text)).batch(batch_size)\n",
    "ds_test_encoded = encode_examples(ds_test).batch(batch_size)"
   ]
  },
  {
   "cell_type": "code",
   "execution_count": 34,
   "metadata": {
    "execution": {
     "iopub.execute_input": "2023-04-19T11:43:58.654363Z",
     "iopub.status.busy": "2023-04-19T11:43:58.653883Z",
     "iopub.status.idle": "2023-04-19T11:44:07.708255Z",
     "shell.execute_reply": "2023-04-19T11:44:07.707122Z",
     "shell.execute_reply.started": "2023-04-19T11:43:58.654322Z"
    }
   },
   "outputs": [
    {
     "data": {
      "application/vnd.jupyter.widget-view+json": {
       "model_id": "64c38e06fd9745de843d350682a6638b",
       "version_major": 2,
       "version_minor": 0
      },
      "text/plain": [
       "Downloading tf_model.h5:   0%|          | 0.00/536M [00:00<?, ?B/s]"
      ]
     },
     "metadata": {},
     "output_type": "display_data"
    },
    {
     "name": "stderr",
     "output_type": "stream",
     "text": [
      "All model checkpoint layers were used when initializing TFBertForSequenceClassification.\n",
      "\n",
      "Some layers of TFBertForSequenceClassification were not initialized from the model checkpoint at bert-base-uncased and are newly initialized: ['classifier']\n",
      "You should probably TRAIN this model on a down-stream task to be able to use it for predictions and inference.\n"
     ]
    },
    {
     "name": "stdout",
     "output_type": "stream",
     "text": [
      "Model: \"tf_bert_for_sequence_classification\"\n",
      "_________________________________________________________________\n",
      " Layer (type)                Output Shape              Param #   \n",
      "=================================================================\n",
      " bert (TFBertMainLayer)      multiple                  109482240 \n",
      "                                                                 \n",
      " dropout_37 (Dropout)        multiple                  0         \n",
      "                                                                 \n",
      " classifier (Dense)          multiple                  2307      \n",
      "                                                                 \n",
      "=================================================================\n",
      "Total params: 109,484,547\n",
      "Trainable params: 109,484,547\n",
      "Non-trainable params: 0\n",
      "_________________________________________________________________\n"
     ]
    }
   ],
   "source": [
    "# log_dir = './sentiment-analysis-using-bert-keras/tensorboard_data/tb_bert'\n",
    "model_save_path = './sentiment-analysis-using-bert-keras/models/bert_model.h5'\n",
    "\n",
    "path = \"./sentiment-analysis-using-bert-keras/models/\"\n",
    "\n",
    "## Initialize pre-built BERT-based classifier from transformers\n",
    "bert_model = TFBertForSequenceClassification.from_pretrained(\n",
    "    'bert-base-uncased', num_labels=num_classes)\n",
    "\n",
    "bert_model.summary()"
   ]
  },
  {
   "cell_type": "code",
   "execution_count": 35,
   "metadata": {
    "execution": {
     "iopub.execute_input": "2023-04-19T11:44:07.710241Z",
     "iopub.status.busy": "2023-04-19T11:44:07.709794Z",
     "iopub.status.idle": "2023-04-19T11:44:07.735169Z",
     "shell.execute_reply": "2023-04-19T11:44:07.734260Z",
     "shell.execute_reply.started": "2023-04-19T11:44:07.710202Z"
    }
   },
   "outputs": [],
   "source": [
    "learning_rate = 2e-5\n",
    "# multiple epochs might be better as long as we will not overfit the model\n",
    "number_of_epochs = 4\n",
    "\n",
    "# choosing Adam optimizer\n",
    "optimizer = tf.keras.optimizers.Adam(learning_rate=learning_rate, epsilon=1e-08)\n",
    "# we do not have one-hot vectors, we can use sparce categorical cross entropy and accuracy\n",
    "loss = tf.keras.losses.SparseCategoricalCrossentropy(from_logits=True)\n",
    "metric = tf.keras.metrics.SparseCategoricalAccuracy('accuracy')\n",
    "\n",
    "bert_model.compile(loss=loss,\n",
    "                   optimizer=optimizer,\n",
    "                   metrics=metric)"
   ]
  },
  {
   "cell_type": "code",
   "execution_count": 36,
   "metadata": {
    "execution": {
     "iopub.execute_input": "2023-04-19T11:44:07.737995Z",
     "iopub.status.busy": "2023-04-19T11:44:07.737564Z",
     "iopub.status.idle": "2023-04-19T14:04:20.203836Z",
     "shell.execute_reply": "2023-04-19T14:04:20.202638Z",
     "shell.execute_reply.started": "2023-04-19T11:44:07.737954Z"
    }
   },
   "outputs": [
    {
     "name": "stdout",
     "output_type": "stream",
     "text": [
      "Epoch 1/4\n",
      "3436/3436 [==============================] - 2137s 608ms/step - loss: 0.5731 - accuracy: 0.7638 - val_loss: 0.5092 - val_accuracy: 0.7917\n",
      "Epoch 2/4\n",
      "3436/3436 [==============================] - 2087s 607ms/step - loss: 0.4031 - accuracy: 0.8425 - val_loss: 0.5312 - val_accuracy: 0.7917\n",
      "Epoch 3/4\n",
      "3436/3436 [==============================] - 2087s 607ms/step - loss: 0.2562 - accuracy: 0.9042 - val_loss: 0.6265 - val_accuracy: 0.7838\n",
      "Epoch 4/4\n",
      "3436/3436 [==============================] - 2087s 607ms/step - loss: 0.1537 - accuracy: 0.9458 - val_loss: 0.7577 - val_accuracy: 0.7776\n"
     ]
    }
   ],
   "source": [
    "history = bert_model.fit(ds_train_encoded,\n",
    "                         batch_size=batch_size,\n",
    "                         epochs=number_of_epochs,\n",
    "                         validation_data=ds_test_encoded)"
   ]
  },
  {
   "cell_type": "code",
   "execution_count": 37,
   "metadata": {
    "execution": {
     "iopub.execute_input": "2023-04-19T14:04:20.207089Z",
     "iopub.status.busy": "2023-04-19T14:04:20.206382Z",
     "iopub.status.idle": "2023-04-19T14:04:20.216659Z",
     "shell.execute_reply": "2023-04-19T14:04:20.215343Z",
     "shell.execute_reply.started": "2023-04-19T14:04:20.207048Z"
    }
   },
   "outputs": [],
   "source": [
    "import matplotlib.pyplot as plt\n",
    "import matplotlib\n",
    "import pandas as pd\n",
    "\n",
    "matplotlib.rcParams['figure.dpi'] = 150\n",
    "\n",
    "\n",
    "# Plotting results\n",
    "def plot1(history):\n",
    "    acc = history.history['accuracy']\n",
    "    val_acc = history.history['val_accuracy']\n",
    "    loss = history.history['loss']\n",
    "    val_loss = history.history['val_loss']\n",
    "\n",
    "    epochs = range(1, len(acc) + 1)\n",
    "    ## Accuracy plot\n",
    "    plt.plot(epochs, acc, 'bo', label='Training acc')\n",
    "    plt.plot(epochs, val_acc, 'b', label='Validation acc')\n",
    "    plt.title('Training and validation accuracy')\n",
    "    plt.legend()\n",
    "    ## Loss plot\n",
    "    plt.figure()\n",
    "\n",
    "    plt.plot(epochs, loss, 'bo', label='Training loss')\n",
    "    plt.plot(epochs, val_loss, 'b', label='Validation loss')\n",
    "    plt.title('Training and validation loss')\n",
    "    plt.legend()\n",
    "    plt.show()\n",
    "\n",
    "\n",
    "def plot2(history):\n",
    "    pd.DataFrame(history.history).plot(figsize=(8, 5))\n",
    "    plt.grid(True)\n",
    "    #plt.gca().set_ylim(0,1)\n",
    "    plt.show()"
   ]
  },
  {
   "cell_type": "code",
   "execution_count": 38,
   "metadata": {
    "execution": {
     "iopub.execute_input": "2023-04-19T14:04:20.218838Z",
     "iopub.status.busy": "2023-04-19T14:04:20.218385Z",
     "iopub.status.idle": "2023-04-19T14:04:20.546612Z",
     "shell.execute_reply": "2023-04-19T14:04:20.545503Z",
     "shell.execute_reply.started": "2023-04-19T14:04:20.218799Z"
    }
   },
   "outputs": [
    {
     "data": {
      "image/png": "[encoded data removed]",
      "text/plain": [
       "<Figure size 1200x750 with 1 Axes>"
      ]
     },
     "metadata": {},
     "output_type": "display_data"
    }
   ],
   "source": [
    "plot2(history)"
   ]
  },
  {
   "cell_type": "code",
   "execution_count": 39,
   "metadata": {
    "execution": {
     "iopub.execute_input": "2023-04-19T14:25:09.230990Z",
     "iopub.status.busy": "2023-04-19T14:25:09.230546Z",
     "iopub.status.idle": "2023-04-19T14:27:31.174464Z",
     "shell.execute_reply": "2023-04-19T14:27:31.173377Z",
     "shell.execute_reply.started": "2023-04-19T14:25:09.230952Z"
    }
   },
   "outputs": [
    {
     "name": "stdout",
     "output_type": "stream",
     "text": [
      "442/442 [==============================] - 89s 202ms/step - loss: 0.7577 - accuracy: 0.7776\n"
     ]
    },
    {
     "data": {
      "text/plain": [
       "[0.7577115297317505, 0.7775891423225403]"
      ]
     },
     "execution_count": 39,
     "metadata": {},
     "output_type": "execute_result"
    }
   ],
   "source": [
    "bert_model.evaluate(ds_test_encoded,\n",
    "                    batch_size=batch_size)"
   ]
  },
  {
   "cell_type": "code",
   "execution_count": 40,
   "metadata": {
    "execution": {
     "iopub.execute_input": "2023-04-19T14:27:31.177082Z",
     "iopub.status.busy": "2023-04-19T14:27:31.176624Z",
     "iopub.status.idle": "2023-04-19T14:29:02.162779Z",
     "shell.execute_reply": "2023-04-19T14:29:02.161714Z",
     "shell.execute_reply.started": "2023-04-19T14:27:31.177033Z"
    }
   },
   "outputs": [
    {
     "name": "stdout",
     "output_type": "stream",
     "text": [
      "442/442 [==============================] - 91s 198ms/step\n"
     ]
    }
   ],
   "source": [
    "y_test_pred = bert_model.predict(ds_test_encoded,\n",
    "                                 batch_size=batch_size)"
   ]
  },
  {
   "cell_type": "code",
   "execution_count": 41,
   "metadata": {
    "execution": {
     "iopub.execute_input": "2023-04-19T14:29:02.164789Z",
     "iopub.status.busy": "2023-04-19T14:29:02.164437Z",
     "iopub.status.idle": "2023-04-19T14:29:02.172705Z",
     "shell.execute_reply": "2023-04-19T14:29:02.171463Z",
     "shell.execute_reply.started": "2023-04-19T14:29:02.164752Z"
    }
   },
   "outputs": [],
   "source": [
    "y_test_pred_class = y_test_pred[0].argmax(axis=1)"
   ]
  },
  {
   "cell_type": "code",
   "execution_count": 106,
   "metadata": {
    "execution": {
     "iopub.execute_input": "2023-04-19T11:00:30.176297Z",
     "iopub.status.busy": "2023-04-19T11:00:30.175574Z",
     "iopub.status.idle": "2023-04-19T11:00:30.184629Z",
     "shell.execute_reply": "2023-04-19T11:00:30.183284Z",
     "shell.execute_reply.started": "2023-04-19T11:00:30.176258Z"
    }
   },
   "outputs": [
    {
     "name": "stdout",
     "output_type": "stream",
     "text": [
      "[2 1 0 1 1 1 0 0 2 2]\n",
      "[2. 1. 0. 1. 1. 1. 0. 0. 2. 2.]\n"
     ]
    }
   ],
   "source": [
    "print(y_test_pred_class[:10])\n",
    "print(y_test[:10])"
   ]
  },
  {
   "cell_type": "code",
   "execution_count": 43,
   "metadata": {
    "execution": {
     "iopub.execute_input": "2023-04-19T14:35:35.495075Z",
     "iopub.status.busy": "2023-04-19T14:35:35.494281Z",
     "iopub.status.idle": "2023-04-19T14:35:35.506912Z",
     "shell.execute_reply": "2023-04-19T14:35:35.505643Z",
     "shell.execute_reply.started": "2023-04-19T14:35:35.495032Z"
    }
   },
   "outputs": [
    {
     "data": {
      "text/plain": [
       "array([[ 822,   26,  153],\n",
       "       [  29,  895,  179],\n",
       "       [ 247,  152, 1031]])"
      ]
     },
     "execution_count": 43,
     "metadata": {},
     "output_type": "execute_result"
    }
   ],
   "source": [
    "from sklearn.metrics import accuracy_score,classification_report,confusion_matrix\n",
    "confusion_matrix(y_test,y_test_pred_class)"
   ]
  },
  {
   "cell_type": "code",
   "execution_count": 45,
   "metadata": {
    "execution": {
     "iopub.execute_input": "2023-04-19T14:35:52.592711Z",
     "iopub.status.busy": "2023-04-19T14:35:52.591964Z",
     "iopub.status.idle": "2023-04-19T14:35:52.609989Z",
     "shell.execute_reply": "2023-04-19T14:35:52.608362Z",
     "shell.execute_reply.started": "2023-04-19T14:35:52.592671Z"
    }
   },
   "outputs": [
    {
     "data": {
      "text/plain": [
       "'              precision    recall  f1-score   support\\n\\n           0       0.75      0.82      0.78      1001\\n           1       0.83      0.81      0.82      1103\\n           2       0.76      0.72      0.74      1430\\n\\n    accuracy                           0.78      3534\\n   macro avg       0.78      0.78      0.78      3534\\nweighted avg       0.78      0.78      0.78      3534\\n'"
      ]
     },
     "execution_count": 45,
     "metadata": {},
     "output_type": "execute_result"
    }
   ],
   "source": [
    "classification_report(y_test,y_test_pred_class)"
   ]
  },
  {
   "cell_type": "code",
   "execution_count": null,
   "metadata": {},
   "outputs": [],
   "source": []
  }
 ],
 "metadata": {
  "kernelspec": {
   "display_name": "Python 3 (ipykernel)",
   "language": "python",
   "name": "python3"
  },
  "language_info": {
   "codemirror_mode": {
    "name": "ipython",
    "version": 3
   },
   "file_extension": ".py",
   "mimetype": "text/x-python",
   "name": "python",
   "nbconvert_exporter": "python",
   "pygments_lexer": "ipython3",
   "version": "3.9.7"
  }
 },
 "nbformat": 4,
 "nbformat_minor": 4
}
